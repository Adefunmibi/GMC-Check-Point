{
 "cells": [
  {
   "cell_type": "markdown",
   "id": "ddd49d5b",
   "metadata": {},
   "source": [
    "### Introduction to python\n",
    "This is our introduction to python programming Language"
   ]
  },
  {
   "cell_type": "code",
   "execution_count": 1,
   "id": "c678c5fd",
   "metadata": {
    "scrolled": true
   },
   "outputs": [
    {
     "name": "stdout",
     "output_type": "stream",
     "text": [
      "Hello World\n"
     ]
    }
   ],
   "source": [
    "print (\"Hello World\")\n"
   ]
  },
  {
   "cell_type": "code",
   "execution_count": null,
   "id": "dfe94309",
   "metadata": {},
   "outputs": [],
   "source": [
    "# This is a comment,ython will ignore this line"
   ]
  },
  {
   "cell_type": "markdown",
   "id": "4f356c11",
   "metadata": {},
   "source": [
    "#### Variable\n",
    "A variable stores values in python,these values can be reused by calling the variable name"
   ]
  },
  {
   "cell_type": "code",
   "execution_count": 6,
   "id": "d6a1d134",
   "metadata": {},
   "outputs": [],
   "source": [
    "# This is a variable\n",
    "score = 20"
   ]
  },
  {
   "cell_type": "code",
   "execution_count": 8,
   "id": "f1c008f8",
   "metadata": {},
   "outputs": [
    {
     "data": {
      "text/plain": [
       "2000"
      ]
     },
     "execution_count": 8,
     "metadata": {},
     "output_type": "execute_result"
    }
   ],
   "source": [
    "score * 100"
   ]
  },
  {
   "cell_type": "code",
   "execution_count": 9,
   "id": "f4e2b5de",
   "metadata": {},
   "outputs": [],
   "source": [
    "name='Chiamaka'"
   ]
  },
  {
   "cell_type": "code",
   "execution_count": 11,
   "id": "dd0a68c3",
   "metadata": {},
   "outputs": [
    {
     "name": "stdout",
     "output_type": "stream",
     "text": [
      "Chiamaka\n"
     ]
    }
   ],
   "source": [
    "print(name)"
   ]
  },
  {
   "cell_type": "markdown",
   "id": "e432caf1",
   "metadata": {},
   "source": [
    "##DATA TYPES IN PYTHON\n",
    "Data types are the classification or categorization of data items.It represents the kind of values that tells what operations can be performed on a particular data.\n",
    "\n",
    "The followin are the standard or built in data type in Python.\n",
    "-Numeric\n",
    " .Integer:Numeric whole number\n",
    " .Float;A continious numeric value(decimal)\n",
    "-Sequence Type(Strings);A sequence of character\n",
    "-Booolean;A true/false statement\n"
   ]
  },
  {
   "cell_type": "code",
   "execution_count": 2,
   "id": "ae97c742",
   "metadata": {},
   "outputs": [],
   "source": [
    "#Numeric\n",
    "age=25"
   ]
  },
  {
   "cell_type": "code",
   "execution_count": 3,
   "id": "922936fe",
   "metadata": {},
   "outputs": [],
   "source": [
    "#Numeric(float)\n",
    "height =5.1"
   ]
  },
  {
   "cell_type": "code",
   "execution_count": 4,
   "id": "4edbabb2",
   "metadata": {},
   "outputs": [],
   "source": [
    "#string\n",
    "name='Alice'"
   ]
  },
  {
   "cell_type": "code",
   "execution_count": 5,
   "id": "9200b832",
   "metadata": {},
   "outputs": [],
   "source": [
    "#Boolean asks question\n",
    "is_student=True"
   ]
  },
  {
   "cell_type": "markdown",
   "id": "03b0b965",
   "metadata": {},
   "source": [
    "### Operators and Expressions In Python\n",
    "Operators are specia; symbols in python that carry out arithmetrics or logical computation.The vallue the operator oprates on is called the \n",
    "Operand"
   ]
  },
  {
   "cell_type": "code",
   "execution_count": 8,
   "id": "b0162869",
   "metadata": {},
   "outputs": [
    {
     "data": {
      "text/plain": [
       "6"
      ]
     },
     "execution_count": 8,
     "metadata": {},
     "output_type": "execute_result"
    }
   ],
   "source": [
    "##Addition Operation\n",
    "2+4"
   ]
  },
  {
   "cell_type": "code",
   "execution_count": 10,
   "id": "3af8020e",
   "metadata": {},
   "outputs": [
    {
     "data": {
      "text/plain": [
       "2"
      ]
     },
     "execution_count": 10,
     "metadata": {},
     "output_type": "execute_result"
    }
   ],
   "source": [
    "##Subtraction Operation\n",
    "6-4"
   ]
  },
  {
   "cell_type": "code",
   "execution_count": 11,
   "id": "f1806a1c",
   "metadata": {},
   "outputs": [],
   "source": [
    "##Multiplication\n"
   ]
  },
  {
   "cell_type": "code",
   "execution_count": 14,
   "id": "397c3e9c",
   "metadata": {},
   "outputs": [
    {
     "data": {
      "text/plain": [
       "'Alice Alice'"
      ]
     },
     "execution_count": 14,
     "metadata": {},
     "output_type": "execute_result"
    }
   ],
   "source": [
    "## The addition oferator can also be used to concatenate strings\n",
    "name+\" \"+name"
   ]
  },
  {
   "cell_type": "code",
   "execution_count": null,
   "id": "6663ec2b",
   "metadata": {},
   "outputs": [],
   "source": []
  }
 ],
 "metadata": {
  "kernelspec": {
   "display_name": "Python 3 (ipykernel)",
   "language": "python",
   "name": "python3"
  },
  "language_info": {
   "codemirror_mode": {
    "name": "ipython",
    "version": 3
   },
   "file_extension": ".py",
   "mimetype": "text/x-python",
   "name": "python",
   "nbconvert_exporter": "python",
   "pygments_lexer": "ipython3",
   "version": "3.11.5"
  }
 },
 "nbformat": 4,
 "nbformat_minor": 5
}
