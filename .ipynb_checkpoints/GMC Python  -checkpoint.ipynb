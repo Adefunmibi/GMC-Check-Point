{
 "cells": [
  {
   "cell_type": "markdown",
   "id": "ddd49d5b",
   "metadata": {},
   "source": [
    "### Introduction to python\n",
    "This is our introduction to python programming Language"
   ]
  },
  {
   "cell_type": "code",
   "execution_count": 1,
   "id": "c678c5fd",
   "metadata": {
    "scrolled": true
   },
   "outputs": [
    {
     "name": "stdout",
     "output_type": "stream",
     "text": [
      "Hello World\n"
     ]
    }
   ],
   "source": [
    "print (\"Hello World\")\n"
   ]
  },
  {
   "cell_type": "code",
   "execution_count": null,
   "id": "dfe94309",
   "metadata": {},
   "outputs": [],
   "source": [
    "# This is a comment,ython will ignore this line"
   ]
  },
  {
   "cell_type": "markdown",
   "id": "4f356c11",
   "metadata": {},
   "source": [
    "#### Variable\n",
    "A variable stores values in python,these values can be reused by calling the variable name"
   ]
  },
  {
   "cell_type": "code",
   "execution_count": 6,
   "id": "d6a1d134",
   "metadata": {},
   "outputs": [],
   "source": [
    "# This is a variable\n",
    "score = 20"
   ]
  },
  {
   "cell_type": "code",
   "execution_count": 8,
   "id": "f1c008f8",
   "metadata": {},
   "outputs": [
    {
     "data": {
      "text/plain": [
       "2000"
      ]
     },
     "execution_count": 8,
     "metadata": {},
     "output_type": "execute_result"
    }
   ],
   "source": [
    "score * 100"
   ]
  },
  {
   "cell_type": "code",
   "execution_count": 9,
   "id": "f4e2b5de",
   "metadata": {},
   "outputs": [],
   "source": [
    "name='Chiamaka'"
   ]
  },
  {
   "cell_type": "code",
   "execution_count": 11,
   "id": "dd0a68c3",
   "metadata": {},
   "outputs": [
    {
     "name": "stdout",
     "output_type": "stream",
     "text": [
      "Chiamaka\n"
     ]
    }
   ],
   "source": [
    "print(name)"
   ]
  },
  {
   "cell_type": "markdown",
   "id": "e432caf1",
   "metadata": {},
   "source": [
    "##DATA TYPES IN PYTHON\n"
   ]
  }
 ],
 "metadata": {
  "kernelspec": {
   "display_name": "Python 3 (ipykernel)",
   "language": "python",
   "name": "python3"
  },
  "language_info": {
   "codemirror_mode": {
    "name": "ipython",
    "version": 3
   },
   "file_extension": ".py",
   "mimetype": "text/x-python",
   "name": "python",
   "nbconvert_exporter": "python",
   "pygments_lexer": "ipython3",
   "version": "3.11.5"
  }
 },
 "nbformat": 4,
 "nbformat_minor": 5
}
